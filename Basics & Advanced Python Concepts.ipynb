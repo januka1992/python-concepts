{
 "cells": [
  {
   "cell_type": "markdown",
   "source": [
    "#  !!!!  Python Core Concepts !!!!"
   ],
   "metadata": {}
  },
  {
   "cell_type": "markdown",
   "source": [
    "## 1. List In Python"
   ],
   "metadata": {}
  },
  {
   "cell_type": "code",
   "execution_count": 3,
   "source": [
    "my_list = []\r\n",
    "\r\n",
    "# list of integers\r\n",
    "my_list = [1, 2, 3]\r\n",
    "\r\n",
    "# list with mixed data types\r\n",
    "my_list = [1, \"Hello\", 3.4]\r\n",
    "\r\n",
    "# List indexing\r\n",
    "my_list = ['p', 'r', 'o', 'b', 'e']\r\n",
    "\r\n",
    "print(\"Print first item :: {}\".format(my_list[0]))\r\n",
    "print(\"Print first item :: {}\".format(my_list[-1]))\r\n",
    "print(\"Print first item :: {}\".format(my_list[-2]))\r\n"
   ],
   "outputs": [
    {
     "output_type": "stream",
     "name": "stdout",
     "text": [
      "Print first item :: p\n",
      "Print first item :: e\n",
      "Print first item :: b\n"
     ]
    }
   ],
   "metadata": {}
  },
  {
   "cell_type": "markdown",
   "source": [
    "## 2. Dictionary In Python"
   ],
   "metadata": {}
  },
  {
   "cell_type": "code",
   "execution_count": 11,
   "source": [
    "# dictionary with integer keys\r\n",
    "my_dict = {1: 'apple', 2: 'ball'} # O(1)\r\n",
    "\r\n",
    "# dictionary with mixed keys # metadata\r\n",
    "my_dict = {'name': 'John', 'lastname': 'Peeter',1: [2, 4, 3]}\r\n",
    "\r\n",
    "print(\"Print first item :: {}\".format(my_dict[1][0]))\r\n",
    "print(\"Print first item :: {}\".format(my_dict[1][1]))\r\n",
    "\r\n",
    "# using dict()\r\n",
    "my_dict = dict({1:'apple', 2:'ball'})\r\n",
    "\r\n",
    "my_dict = {'name': 'Jack'}\r\n",
    "\r\n",
    "# Output: Jack\r\n",
    "print(my_dict['name'])\r\n",
    "\r\n",
    "# Output: 26 / None\r\n",
    "print(my_dict.get('age', None))\r\n",
    "\r\n",
    "# Trying to access keys which doesn't exist throws error\r\n",
    "# Output None\r\n",
    "print(my_dict.get('address'))\r\n",
    "\r\n",
    "# KeyError\r\n",
    "print(my_dict['address'])\r\n",
    "\r\n"
   ],
   "outputs": [
    {
     "output_type": "stream",
     "name": "stdout",
     "text": [
      "Print first item :: 2\n",
      "Print first item :: 4\n",
      "Jack\n",
      "None\n",
      "None\n"
     ]
    },
    {
     "output_type": "error",
     "ename": "KeyError",
     "evalue": "'address'",
     "traceback": [
      "\u001b[1;31m---------------------------------------------------------------------------\u001b[0m",
      "\u001b[1;31mKeyError\u001b[0m                                  Traceback (most recent call last)",
      "\u001b[1;32m~\\AppData\\Local\\Temp/ipykernel_6480/223211316.py\u001b[0m in \u001b[0;36m<module>\u001b[1;34m\u001b[0m\n\u001b[0;32m     24\u001b[0m \u001b[1;33m\u001b[0m\u001b[0m\n\u001b[0;32m     25\u001b[0m \u001b[1;31m# KeyError\u001b[0m\u001b[1;33m\u001b[0m\u001b[1;33m\u001b[0m\u001b[1;33m\u001b[0m\u001b[0m\n\u001b[1;32m---> 26\u001b[1;33m \u001b[0mprint\u001b[0m\u001b[1;33m(\u001b[0m\u001b[0mmy_dict\u001b[0m\u001b[1;33m[\u001b[0m\u001b[1;34m'address'\u001b[0m\u001b[1;33m]\u001b[0m\u001b[1;33m)\u001b[0m\u001b[1;33m\u001b[0m\u001b[1;33m\u001b[0m\u001b[0m\n\u001b[0m\u001b[0;32m     27\u001b[0m \u001b[1;33m\u001b[0m\u001b[0m\n",
      "\u001b[1;31mKeyError\u001b[0m: 'address'"
     ]
    }
   ],
   "metadata": {}
  },
  {
   "cell_type": "markdown",
   "source": [
    "## 3. Strings In Python"
   ],
   "metadata": {}
  },
  {
   "cell_type": "code",
   "execution_count": 13,
   "source": [
    "#Accessing string characters in Python\r\n",
    "str = 'programiz'\r\n",
    "print('str = ', str)\r\n",
    "\r\n",
    "#first character\r\n",
    "print('str[0] = ', str[0])\r\n",
    "\r\n",
    "#last character\r\n",
    "print('str[-1] = ', str[-1])\r\n",
    "\r\n",
    "# slicing 2nd to 5th character\r\n",
    "print('str[1:5] = ', str[1:5])"
   ],
   "outputs": [
    {
     "output_type": "stream",
     "name": "stdout",
     "text": [
      "str =  programiz\n",
      "str[0] =  p\n",
      "str[-1] =  z\n",
      "str[1:5] =  rogr\n"
     ]
    }
   ],
   "metadata": {}
  },
  {
   "cell_type": "markdown",
   "source": [
    "## 4. Tuples In Python\n"
   ],
   "metadata": {}
  },
  {
   "cell_type": "markdown",
   "source": [
    "### Unpacking Using Tuples\n",
    "\n",
    "my_tuple = func()   # (\"Asmita\", 25, \"Norway\")\n",
    "\n",
    "name, age, address = func()"
   ],
   "metadata": {}
  },
  {
   "cell_type": "code",
   "execution_count": 19,
   "source": [
    "# Tuple having integers\r\n",
    "my_tuple = (1, 2, 3)\r\n",
    "print(my_tuple)\r\n",
    "\r\n",
    "# name, age, address\r\n",
    "\r\n",
    "my_typle = (\"Asmita\", 25, \"Norway\")\r\n",
    "\r\n",
    "# tuple with mixed datatypes\r\n",
    "my_tuple = (1, \"Hello\", 3.4)\r\n",
    "print(my_tuple)\r\n",
    "\r\n",
    "my_tuple = 3, 4.6, \"dog\"\r\n",
    "print(my_tuple)\r\n",
    "\r\n",
    "# tuple unpacking is also possible\r\n",
    "a, b, c = my_tuple"
   ],
   "outputs": [
    {
     "output_type": "stream",
     "name": "stdout",
     "text": [
      "(1, 2, 3)\n",
      "(1, 'Hello', 3.4)\n",
      "(3, 4.6, 'dog')\n"
     ]
    }
   ],
   "metadata": {}
  },
  {
   "cell_type": "markdown",
   "source": [
    "## 5. Generators In Python"
   ],
   "metadata": {}
  },
  {
   "cell_type": "markdown",
   "source": [
    "### Generator Syntax\n",
    "\n",
    "range(stop)        ---> takes one argument. # start -1, end stop - 1\n",
    "\n",
    "range(start, stop) ---> takes two arguments.  \n",
    "\n",
    "range(start, stop, step) ---> takes three arguments. # 5   Output - 1, 6, 11\n"
   ],
   "metadata": {}
  },
  {
   "cell_type": "code",
   "execution_count": 18,
   "source": [
    "# Syntax\r\n",
    "\r\n",
    "# Object --> Next\r\n",
    "\r\n",
    "# example\r\n",
    "for i in range(1, 20):\r\n",
    "    print(i, end=\" \")"
   ],
   "outputs": [
    {
     "output_type": "error",
     "ename": "SyntaxError",
     "evalue": "invalid syntax (Temp/ipykernel_6480/340310324.py, line 2)",
     "traceback": [
      "\u001b[1;36m  File \u001b[1;32m\"C:\\Users\\varun\\AppData\\Local\\Temp/ipykernel_6480/340310324.py\"\u001b[1;36m, line \u001b[1;32m2\u001b[0m\n\u001b[1;33m    range(stop) takes one argument. # start -1, end stop - 1\u001b[0m\n\u001b[1;37m                ^\u001b[0m\n\u001b[1;31mSyntaxError\u001b[0m\u001b[1;31m:\u001b[0m invalid syntax\n"
     ]
    }
   ],
   "metadata": {}
  },
  {
   "cell_type": "markdown",
   "source": [
    "## 6. List Comprehensions\r\n",
    "### Syntax [expression for item in list]"
   ],
   "metadata": {}
  },
  {
   "cell_type": "code",
   "execution_count": 1,
   "source": [
    "\r\n",
    "\r\n",
    "h_letters = []\r\n",
    "\r\n",
    "for letter in 'human':\r\n",
    "    h_letters.append(letter)\r\n",
    "\r\n",
    "print(h_letters)\r\n",
    "\r\n",
    "# output\r\n",
    "['h', 'u', 'm', 'a', 'n']\r\n",
    "\r\n",
    "\r\n",
    "# Can be written as\r\n",
    "h_letters = [ letter for letter in 'human' ]\r\n",
    "print( h_letters)\r\n",
    "\r\n",
    "# output\r\n",
    "['h', 'u', 'm', 'a', 'n']"
   ],
   "outputs": [
    {
     "output_type": "stream",
     "name": "stdout",
     "text": [
      "['h', 'u', 'm', 'a', 'n']\n",
      "['h', 'u', 'm', 'a', 'n']\n"
     ]
    },
    {
     "output_type": "execute_result",
     "data": {
      "text/plain": [
       "['h', 'u', 'm', 'a', 'n']"
      ]
     },
     "metadata": {},
     "execution_count": 1
    }
   ],
   "metadata": {}
  },
  {
   "cell_type": "markdown",
   "source": [
    "## 7. Dictionary Comprehensions\r\n",
    "### Syntax dictionary = {key: expression/value for vars in iterable}"
   ],
   "metadata": {}
  },
  {
   "cell_type": "code",
   "execution_count": 2,
   "source": [
    "square_dict = dict()\r\n",
    "for num in range(1, 11):\r\n",
    "    square_dict[num] = num*num\r\n",
    "print(square_dict)\r\n",
    "\r\n",
    "# can be written as\r\n",
    "square_dict = {num: num*num for num in range(1, 11)}\r\n",
    "print(square_dict)\r\n",
    "\r\n",
    "# output\r\n",
    "{1: 1, 2: 4, 3: 9, 4: 16, 5: 25, 6: 36, 7: 49, 8: 64, 9: 81, 10: 100}"
   ],
   "outputs": [
    {
     "output_type": "stream",
     "name": "stdout",
     "text": [
      "{1: 1, 2: 4, 3: 9, 4: 16, 5: 25, 6: 36, 7: 49, 8: 64, 9: 81, 10: 100}\n",
      "{1: 1, 2: 4, 3: 9, 4: 16, 5: 25, 6: 36, 7: 49, 8: 64, 9: 81, 10: 100}\n"
     ]
    },
    {
     "output_type": "execute_result",
     "data": {
      "text/plain": [
       "{1: 1, 2: 4, 3: 9, 4: 16, 5: 25, 6: 36, 7: 49, 8: 64, 9: 81, 10: 100}"
      ]
     },
     "metadata": {},
     "execution_count": 2
    }
   ],
   "metadata": {}
  },
  {
   "cell_type": "markdown",
   "source": [
    "## 8. File Operations"
   ],
   "metadata": {}
  },
  {
   "cell_type": "code",
   "execution_count": null,
   "source": [
    "f = open(\"test.txt\")      # equivalent to 'r' or 'rt'\r\n",
    "f = open(\"test.txt\", 'w')  # write in text mode\r\n",
    "f = open(\"img.bmp\", 'r+b') # read and write in binary mode\r\n",
    "\r\n",
    "# Using context managers\r\n",
    "with open(\"test.txt\", 'w', encoding = 'utf-8') as f:\r\n",
    "   f.write(\"my first file\\n\")\r\n",
    "   f.write(\"This file\\n\\n\")\r\n",
    "   f.write(\"contains three lines\\n\")"
   ],
   "outputs": [],
   "metadata": {}
  }
 ],
 "metadata": {
  "kernelspec": {
   "name": "python3",
   "display_name": "Python 3.9.5 64-bit"
  },
  "language_info": {
   "codemirror_mode": {
    "name": "ipython",
    "version": 3
   },
   "file_extension": ".py",
   "mimetype": "text/x-python",
   "name": "python",
   "nbconvert_exporter": "python",
   "pygments_lexer": "ipython3",
   "version": "3.9.5"
  },
  "interpreter": {
   "hash": "572770fff032c742a4a052eabe1facf7f68b6ead6c7a8874dcf4675875fc2242"
  }
 },
 "nbformat": 4,
 "nbformat_minor": 5
}